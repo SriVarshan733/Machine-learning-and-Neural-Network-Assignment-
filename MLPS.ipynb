{
 "cells": [
  {
   "cell_type": "markdown",
   "id": "0f46df5b",
   "metadata": {},
   "source": [
    "**COMPREHENDING MULTILAYER PERCEPTRONS : HOW NETWORK DEPTH AFFECTS EFFICIENCY**"
   ]
  },
  {
   "cell_type": "markdown",
   "id": "cec7a66a",
   "metadata": {},
   "source": [
    "**PRACTICAL IMPLEMENTATION**"
   ]
  },
  {
   "cell_type": "markdown",
   "id": "047b5571",
   "metadata": {},
   "source": [
    "**NAME : SRIVARSHAN MEIPRAKASH**"
   ]
  },
  {
   "cell_type": "markdown",
   "id": "c4b813d7",
   "metadata": {},
   "source": [
    "**STUDENT ID : 23075537**"
   ]
  },
  {
   "cell_type": "code",
   "execution_count": 12,
   "id": "f403af5f",
   "metadata": {},
   "outputs": [
    {
     "name": "stdout",
     "output_type": "stream",
     "text": [
      "Requirement already satisfied: numpy in c:\\users\\hp\\anaconda3\\lib\\site-packages (1.20.1)\n",
      "Requirement already satisfied: matplotlib in c:\\users\\hp\\anaconda3\\lib\\site-packages (3.3.4)\n",
      "Requirement already satisfied: keras in c:\\users\\hp\\anaconda3\\lib\\site-packages (2.9.0)Note: you may need to restart the kernel to use updated packages.\n",
      "Requirement already satisfied: kiwisolver>=1.0.1 in c:\\users\\hp\\anaconda3\\lib\\site-packages (from matplotlib) (1.3.1)\n",
      "Requirement already satisfied: pillow>=6.2.0 in c:\\users\\hp\\anaconda3\\lib\\site-packages (from matplotlib) (8.2.0)\n",
      "Requirement already satisfied: python-dateutil>=2.1 in c:\\users\\hp\\anaconda3\\lib\\site-packages (from matplotlib) (2.8.1)\n",
      "Requirement already satisfied: cycler>=0.10 in c:\\users\\hp\\anaconda3\\lib\\site-packages (from matplotlib) (0.10.0)\n",
      "Requirement already satisfied: pyparsing!=2.0.4,!=2.1.2,!=2.1.6,>=2.0.3 in c:\\users\\hp\\anaconda3\\lib\\site-packages (from matplotlib) (2.4.7)\n",
      "Requirement already satisfied: six in c:\\users\\hp\\anaconda3\\lib\\site-packages (from cycler>=0.10->matplotlib) (1.15.0)\n",
      "\n"
     ]
    }
   ],
   "source": [
    "pip install numpy matplotlib keras"
   ]
  },
  {
   "cell_type": "markdown",
   "id": "1edbac86",
   "metadata": {},
   "source": [
    "**Importing the required libraries**"
   ]
  },
  {
   "cell_type": "code",
   "execution_count": 13,
   "id": "792a6a6d",
   "metadata": {},
   "outputs": [],
   "source": [
    "# Import necessary libraries\n",
    "import numpy as np\n",
    "import matplotlib.pyplot as plt\n",
    "from keras.datasets import mnist\n",
    "from keras.models import Sequential\n",
    "from keras.layers import Dense, Flatten\n",
    "from keras.utils import to_categorical"
   ]
  },
  {
   "cell_type": "markdown",
   "id": "e5f893a8",
   "metadata": {},
   "source": [
    "**Training & Testing of MNIST dataset**"
   ]
  },
  {
   "cell_type": "code",
   "execution_count": 14,
   "id": "dee81057",
   "metadata": {},
   "outputs": [],
   "source": [
    "# Load the MNIST dataset\n",
    "(x_train, y_train), (x_test, y_test) = mnist.load_data()\n",
    "\n",
    "# Normalize the input data to the range [0, 1]\n",
    "x_train = x_train.astype('float32') / 255\n",
    "x_test = x_test.astype('float32') / 255\n",
    "\n",
    "# Convert labels to one-hot encoding\n",
    "y_train = to_categorical(y_train, num_classes=10)\n",
    "y_test = to_categorical(y_test, num_classes=10)"
   ]
  },
  {
   "cell_type": "markdown",
   "id": "6a9c09a9",
   "metadata": {},
   "source": [
    "**Architecture of MLPS**"
   ]
  },
  {
   "cell_type": "code",
   "execution_count": 24,
   "id": "179caf52",
   "metadata": {},
   "outputs": [],
   "source": [
    "# Create a Sequential model\n",
    "model = Sequential()\n",
    "\n",
    "# Flatten the input data\n",
    "model.add(Flatten(input_shape=(28, 28)))\n",
    "\n",
    "# Add hidden layers\n",
    "model.add(Dense(128, activation='relu'))  # First hidden layer with 128 neurons\n",
    "model.add(Dense(64, activation='relu'))   # Second hidden layer with 64 neurons\n",
    "\n",
    "# Add output layer\n",
    "model.add(Dense(10, activation='softmax'))  # Output layer for 10 classes"
   ]
  },
  {
   "cell_type": "code",
   "execution_count": 16,
   "id": "f1656c25",
   "metadata": {},
   "outputs": [
    {
     "name": "stdout",
     "output_type": "stream",
     "text": [
      "Epoch 1/10\n",
      "1875/1875 [==============================] - 5s 3ms/step - loss: 0.2409 - accuracy: 0.9293 - val_loss: 0.1314 - val_accuracy: 0.9575\n",
      "Epoch 2/10\n",
      "1875/1875 [==============================] - 4s 2ms/step - loss: 0.1020 - accuracy: 0.9678 - val_loss: 0.0971 - val_accuracy: 0.9713\n",
      "Epoch 3/10\n",
      "1875/1875 [==============================] - 4s 2ms/step - loss: 0.0720 - accuracy: 0.9775 - val_loss: 0.0802 - val_accuracy: 0.9744\n",
      "Epoch 4/10\n",
      "1875/1875 [==============================] - 3s 2ms/step - loss: 0.0543 - accuracy: 0.9828 - val_loss: 0.0787 - val_accuracy: 0.9772\n",
      "Epoch 5/10\n",
      "1875/1875 [==============================] - 3s 2ms/step - loss: 0.0425 - accuracy: 0.9862 - val_loss: 0.0789 - val_accuracy: 0.9764\n",
      "Epoch 6/10\n",
      "1875/1875 [==============================] - 3s 2ms/step - loss: 0.0370 - accuracy: 0.9881 - val_loss: 0.0875 - val_accuracy: 0.9759\n",
      "Epoch 7/10\n",
      "1875/1875 [==============================] - 4s 2ms/step - loss: 0.0289 - accuracy: 0.9906 - val_loss: 0.0863 - val_accuracy: 0.9769\n",
      "Epoch 8/10\n",
      "1875/1875 [==============================] - 4s 2ms/step - loss: 0.0253 - accuracy: 0.9913 - val_loss: 0.0862 - val_accuracy: 0.9784\n",
      "Epoch 9/10\n",
      "1875/1875 [==============================] - 4s 2ms/step - loss: 0.0203 - accuracy: 0.9933 - val_loss: 0.0848 - val_accuracy: 0.9782\n",
      "Epoch 10/10\n",
      "1875/1875 [==============================] - 4s 2ms/step - loss: 0.0189 - accuracy: 0.9933 - val_loss: 0.0904 - val_accuracy: 0.9785\n"
     ]
    }
   ],
   "source": [
    "# Compile the model\n",
    "model.compile(optimizer='adam', \n",
    "              loss='categorical_crossentropy', \n",
    "              metrics=['accuracy'])\n",
    "\n",
    "# Train the model\n",
    "history = model.fit(x_train, y_train, \n",
    "                    validation_data=(x_test, y_test), \n",
    "                    epochs=10, \n",
    "                    batch_size=32)"
   ]
  },
  {
   "cell_type": "markdown",
   "id": "722b35e4",
   "metadata": {},
   "source": [
    "**Evaluation of Model**"
   ]
  },
  {
   "cell_type": "code",
   "execution_count": 17,
   "id": "be611cb3",
   "metadata": {},
   "outputs": [
    {
     "name": "stdout",
     "output_type": "stream",
     "text": [
      "313/313 [==============================] - 1s 3ms/step - loss: 0.0904 - accuracy: 0.9785\n",
      "Test accuracy: 0.9785\n"
     ]
    }
   ],
   "source": [
    "# Evaluate the model on the test set\n",
    "test_loss, test_accuracy = model.evaluate(x_test, y_test)\n",
    "print(f'Test accuracy: {test_accuracy:.4f}')"
   ]
  },
  {
   "cell_type": "markdown",
   "id": "f49d443c",
   "metadata": {},
   "source": [
    "**Plotting of Model Accuracy & loss**"
   ]
  },
  {
   "cell_type": "code",
   "execution_count": 18,
   "id": "7c7fbec1",
   "metadata": {},
   "outputs": [
    {
     "data": {
      "image/png": "[encoded data removed]",
      "text/plain": [
       "<Figure size 432x288 with 1 Axes>"
      ]
     },
     "metadata": {
      "needs_background": "light"
     },
     "output_type": "display_data"
    }
   ],
   "source": [
    "# Plot training & validation accuracy values\n",
    "plt.plot(history.history['accuracy'])\n",
    "plt.plot(history.history['val_accuracy'])\n",
    "plt.title('Model accuracy')\n",
    "plt.ylabel('Accuracy')\n",
    "plt.xlabel('Epoch')\n",
    "plt.legend(['Train', 'Test'], loc='upper left')\n",
    "plt.show()"
   ]
  },
  {
   "cell_type": "code",
   "execution_count": 19,
   "id": "78c6cc1d",
   "metadata": {},
   "outputs": [
    {
     "data": {
      "image/png": "[encoded data removed]",
      "text/plain": [
       "<Figure size 432x288 with 1 Axes>"
      ]
     },
     "metadata": {
      "needs_background": "light"
     },
     "output_type": "display_data"
    }
   ],
   "source": [
    "# Plot training & validation loss values\n",
    "plt.plot(history.history['loss'])\n",
    "plt.plot(history.history['val_loss'])\n",
    "plt.title('Model loss')\n",
    "plt.ylabel('Loss')\n",
    "plt.xlabel('Epoch')\n",
    "plt.legend(['Train', 'Test'], loc='upper left')\n",
    "plt.show()"
   ]
  },
  {
   "cell_type": "code",
   "execution_count": 20,
   "id": "dd1de155",
   "metadata": {},
   "outputs": [],
   "source": [
    "# Save the model for future use\n",
    "model.save('mnist_mlp_model.h5')"
   ]
  }
 ],
 "metadata": {
  "kernelspec": {
   "display_name": "Python 3",
   "language": "python",
   "name": "python3"
  },
  "language_info": {
   "codemirror_mode": {
    "name": "ipython",
    "version": 3
   },
   "file_extension": ".py",
   "mimetype": "text/x-python",
   "name": "python",
   "nbconvert_exporter": "python",
   "pygments_lexer": "ipython3",
   "version": "3.8.8"
  }
 },
 "nbformat": 4,
 "nbformat_minor": 5
}
